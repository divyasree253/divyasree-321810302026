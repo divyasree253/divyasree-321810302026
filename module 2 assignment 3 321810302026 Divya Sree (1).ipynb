{
 "cells": [
  {
   "cell_type": "code",
   "execution_count": 5,
   "metadata": {},
   "outputs": [
    {
     "name": "stdout",
     "output_type": "stream",
     "text": [
      "enter the number1:4\n",
      "enter the number2:8\n",
      "enter the number3:6\n",
      "8\n"
     ]
    }
   ],
   "source": [
    "###1.python pgm to find the max of 3 no's\n",
    "def maximum(a, b, c): \n",
    "    if (a >= b) and (a >= c): \n",
    "        largest = a \n",
    "    elif (b >= a) and (b >= c): \n",
    "        largest = b \n",
    "    else: \n",
    "        largest = c \n",
    "    return largest   \n",
    "a = input(\"enter the number1:\")\n",
    "b = input(\"enter the number2:\")\n",
    "c = input(\"enter the number3:\")\n",
    "print(maximum(a, b, c))\n",
    "\n"
   ]
  },
  {
   "cell_type": "code",
   "execution_count": 2,
   "metadata": {},
   "outputs": [
    {
     "name": "stdout",
     "output_type": "stream",
     "text": [
      "enter the stringdivya\n",
      "The original string is:\n",
      "divya\n",
      "The reversed string is:\n",
      "ayvid\n"
     ]
    }
   ],
   "source": [
    "###2.reverse a string\n",
    "def reverse(s):\n",
    "    if len(s)==0:\n",
    "        return s\n",
    "    else:\n",
    "        return reverse(s[1:])+s[0]\n",
    "s= input('enter the string')\n",
    "print(\"The original string is:\")\n",
    "print(s)\n",
    "print(\"The reversed string is:\")\n",
    "print(reverse(s))\n"
   ]
  },
  {
   "cell_type": "code",
   "execution_count": 4,
   "metadata": {},
   "outputs": [
    {
     "name": "stdout",
     "output_type": "stream",
     "text": [
      "enter the number7\n",
      "it is a prime number\n"
     ]
    }
   ],
   "source": [
    "###3.prime or not\n",
    "def prime(a):\n",
    "    if a>1:\n",
    "        for i in range(2,a):\n",
    "            if(a%i)==0:\n",
    "                return 0\n",
    "                break\n",
    "            else:\n",
    "                return 1\n",
    "    else:\n",
    "        return 1\n",
    "a=int(input(\"enter the number\"))\n",
    "if(prime(a)):\n",
    "    print(\"it is a prime number\")\n",
    "else:\n",
    "    print(\"it is not a prime number\")\n",
    "\n"
   ]
  },
  {
   "cell_type": "code",
   "execution_count": 6,
   "metadata": {},
   "outputs": [
    {
     "name": "stdout",
     "output_type": "stream",
     "text": [
      "enter the number:1904\n",
      "the given number is not a palindrome\n",
      "this block is always excuted\n"
     ]
    }
   ],
   "source": [
    "###4.palindrome or not\n",
    "num=input(\"enter the number:\")\n",
    "try:\n",
    "    val=int(num)\n",
    "    if num==str(num)[::-1]:\n",
    "        print(\"the given number is palindrome\")\n",
    "    else:\n",
    "        print(\"the given number is not a palindrome\")\n",
    "except ValueError:\n",
    "    print(\"That not a vaild number\")\n",
    "finally:\n",
    "    print(\"this block is always excuted\")\n",
    "\n",
    "\n"
   ]
  },
  {
   "cell_type": "code",
   "execution_count": 7,
   "metadata": {},
   "outputs": [
    {
     "name": "stdout",
     "output_type": "stream",
     "text": [
      "enter the number:6\n",
      "91\n"
     ]
    }
   ],
   "source": [
    "###5.sum of the squares of first n natural numbers\n",
    "def firstnat(n):\n",
    "    sum=0\n",
    "    for i in range(1,n+1):\n",
    "        sum=sum+(i*i)\n",
    "    return sum\n",
    "a=int(input(\"enter the number:\"))\n",
    "print(firstnat(a))\n"
   ]
  },
  {
   "cell_type": "code",
   "execution_count": null,
   "metadata": {},
   "outputs": [],
   "source": []
  }
 ],
 "metadata": {
  "kernelspec": {
   "display_name": "Python 3",
   "language": "python",
   "name": "python3"
  },
  "language_info": {
   "codemirror_mode": {
    "name": "ipython",
    "version": 3
   },
   "file_extension": ".py",
   "mimetype": "text/x-python",
   "name": "python",
   "nbconvert_exporter": "python",
   "pygments_lexer": "ipython3",
   "version": "3.8.3"
  }
 },
 "nbformat": 4,
 "nbformat_minor": 4
}
