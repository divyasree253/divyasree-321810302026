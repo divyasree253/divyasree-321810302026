{
 "cells": [
  {
   "cell_type": "code",
   "execution_count": 1,
   "metadata": {},
   "outputs": [
    {
     "name": "stdout",
     "output_type": "stream",
     "text": [
      "3\n"
     ]
    }
   ],
   "source": [
    "###1.pgm to calculate the length of a string\n",
    "def string_length(str1):\n",
    "    count=0\n",
    "    for char in str1:\n",
    "        count=count+1\n",
    "    return count\n",
    "print(string_length(\"cse\"))\n"
   ]
  },
  {
   "cell_type": "code",
   "execution_count": 4,
   "metadata": {},
   "outputs": [
    {
     "name": "stdout",
     "output_type": "stream",
     "text": [
      "enter the string:system\n",
      "{'s': 2, 'y': 1, 't': 1, 'e': 1, 'm': 1}\n"
     ]
    }
   ],
   "source": [
    "###2.calculate the no.of characters ina string\n",
    "def charfrequency(str1):\n",
    "    dict = {}\n",
    "    for n in str1:\n",
    "        keys = dict.keys()\n",
    "        if n in keys:\n",
    "            dict[n] += 1\n",
    "        else:\n",
    "            dict[n] = 1\n",
    "    return dict\n",
    "str1=input(\"enter the string:\")\n",
    "print(charfrequency(str1))\n"
   ]
  },
  {
   "cell_type": "code",
   "execution_count": 5,
   "metadata": {},
   "outputs": [
    {
     "name": "stdout",
     "output_type": "stream",
     "text": [
      "enter the a string:newyork\n",
      "enter the b string:paris\n",
      "pawyork neris\n"
     ]
    }
   ],
   "source": [
    "###3.Write a Python program to get a single string from two given strings, separated by a space and swap the first two characters of each string.\n",
    "def chars(a, b):\n",
    "  newa = b[:2] + a[2:]\n",
    "  newb = a[:2] + b[2:]\n",
    "  return newa + ' ' + newb\n",
    "a=input(\"enter the a string:\")\n",
    "b=input(\"enter the b string:\")\n",
    "print(chars(a,b))\n"
   ]
  },
  {
   "cell_type": "code",
   "execution_count": 6,
   "metadata": {},
   "outputs": [
    {
     "name": "stdout",
     "output_type": "stream",
     "text": [
      "enter your city:banglore\n",
      "My name is: BANGLORE\n",
      "My name is: banglore\n"
     ]
    }
   ],
   "source": [
    "###4.write a python script that takes input from the user and displays that input back in upper and lower cases.\n",
    "userinput = input(\"enter your city:\")\n",
    "print(\"My name is:\",userinput.upper())\n",
    "print(\"My name is:\",userinput.lower())\n"
   ]
  },
  {
   "cell_type": "code",
   "execution_count": 8,
   "metadata": {},
   "outputs": [
    {
     "name": "stdout",
     "output_type": "stream",
     "text": [
      "stay home stay safe  \n",
      "\n",
      "stay home stay safe\n"
     ]
    }
   ],
   "source": [
    "###5.Write a Python program to remove a new line in Python.\n",
    "str1='stay home stay safe \\n'\n",
    "\n",
    "print(str1)\n",
    "print(str1.rstrip())\n"
   ]
  },
  {
   "cell_type": "code",
   "execution_count": 10,
   "metadata": {},
   "outputs": [
    {
     "name": "stdout",
     "output_type": "stream",
     "text": [
      "2\n"
     ]
    }
   ],
   "source": [
    "###6.write a python program to count occurences of a substring in a string.\n",
    "string=\"All my classmates are my friends\"\n",
    "print(string.count(\"my\"))\n"
   ]
  },
  {
   "cell_type": "code",
   "execution_count": 12,
   "metadata": {},
   "outputs": [
    {
     "name": "stdout",
     "output_type": "stream",
     "text": [
      "['mam', 'your', 'teaching', 'is', 'simply', 'superbb...']\n"
     ]
    }
   ],
   "source": [
    "###7.write a python program to convert string in a list.\n",
    "str1=\"mam-your-teaching-is-simply-superbb...\"\n",
    "print(str1.split('-'))\n"
   ]
  },
  {
   "cell_type": "code",
   "execution_count": 13,
   "metadata": {},
   "outputs": [
    {
     "name": "stdout",
     "output_type": "stream",
     "text": [
      "enter the string:gitam\n",
      "gitm\n"
     ]
    }
   ],
   "source": [
    "###8.Write a Python program to perform Deletion of a character.\n",
    "s = input(\"enter the string:\")\n",
    "print(s.replace('a', ''))\n",
    "\n"
   ]
  },
  {
   "cell_type": "code",
   "execution_count": 14,
   "metadata": {},
   "outputs": [
    {
     "name": "stdout",
     "output_type": "stream",
     "text": [
      "enter the string:benagluru\n",
      "b\n",
      "e\n",
      "n\n",
      "a\n",
      "g\n",
      "l\n",
      "u\n",
      "r\n",
      "u\n"
     ]
    }
   ],
   "source": [
    "###9.Write a program to print every character of a string entered by user in a new line using loop.\n",
    "a=input(\"enter the string:\")\n",
    "for i in a :\n",
    "    print(i)\n"
   ]
  },
  {
   "cell_type": "code",
   "execution_count": 15,
   "metadata": {},
   "outputs": [
    {
     "name": "stdout",
     "output_type": "stream",
     "text": [
      "12\n"
     ]
    }
   ],
   "source": [
    "###10.write a program to find the length of the string \"refrigerator\" without using len() function.\n",
    "a=\"refrigerator\"\n",
    "count=0\n",
    "for i in a:\n",
    "    count=count+1\n",
    "print(count)\n"
   ]
  },
  {
   "cell_type": "code",
   "execution_count": null,
   "metadata": {},
   "outputs": [],
   "source": []
  }
 ],
 "metadata": {
  "kernelspec": {
   "display_name": "Python 3",
   "language": "python",
   "name": "python3"
  },
  "language_info": {
   "codemirror_mode": {
    "name": "ipython",
    "version": 3
   },
   "file_extension": ".py",
   "mimetype": "text/x-python",
   "name": "python",
   "nbconvert_exporter": "python",
   "pygments_lexer": "ipython3",
   "version": "3.8.3"
  }
 },
 "nbformat": 4,
 "nbformat_minor": 4
}
