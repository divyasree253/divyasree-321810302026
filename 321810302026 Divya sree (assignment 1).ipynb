{
 "cells": [
  {
   "cell_type": "code",
   "execution_count": null,
   "metadata": {},
   "outputs": [],
   "source": [
    "###1.simple calculator\n",
    "a=int(input('enter the value of a:'))\n",
    "b=int(input('enter the value of b:'))\n",
    "print('sum:',a+b)\n",
    "print('diff:',a-b)\n",
    "print('mul:',a*b)\n",
    "print('div:',a/b)\n",
    "print('modulo:',a%b)\n",
    "print('expo:',a**b)\n",
    "print('floor div:',a//b)\n",
    "\n"
   ]
  },
  {
   "cell_type": "code",
   "execution_count": 3,
   "metadata": {},
   "outputs": [
    {
     "name": "stdout",
     "output_type": "stream",
     "text": [
      "enter principal amount:13.3\n",
      "enter time:200\n",
      "enter rate:42\n",
      "simple intrest: 1117.2\n"
     ]
    }
   ],
   "source": [
    "###2.simple intrest\n",
    "p=float(input('enter principal amount:'))\n",
    "t=float(input('enter time:'))\n",
    "r=float(input('enter rate:'))\n",
    "si=(p*t*r)/100\n",
    "print('simple intrest:',si)"
   ]
  },
  {
   "cell_type": "code",
   "execution_count": 5,
   "metadata": {},
   "outputs": [
    {
     "name": "stdout",
     "output_type": "stream",
     "text": [
      "enter radius:4\n",
      "area of a circle is: 50.272\n"
     ]
    }
   ],
   "source": [
    "###3.area of a circle\n",
    "pi=3.142\n",
    "r=float(input('enter radius:'))\n",
    "area=pi*r*r\n",
    "print('area of a circle is:',area)\n"
   ]
  },
  {
   "cell_type": "code",
   "execution_count": 6,
   "metadata": {},
   "outputs": [
    {
     "name": "stdout",
     "output_type": "stream",
     "text": [
      "enter breadth:8\n",
      "enter height:4\n",
      "Area of a triangle is: 16.0\n"
     ]
    }
   ],
   "source": [
    "###4.area of a triangle\n",
    "b=float(input('enter breadth:'))\n",
    "h=float(input('enter height:'))\n",
    "area=(1/2)*b*h\n",
    "print('Area of a triangle is:',area)"
   ]
  },
  {
   "cell_type": "code",
   "execution_count": 7,
   "metadata": {},
   "outputs": [
    {
     "name": "stdout",
     "output_type": "stream",
     "text": [
      "enter temp in celsius64\n",
      "temp in farenheit: 613.0\n"
     ]
    }
   ],
   "source": [
    "###5.convertion of temperature from celsius to farenheit\n",
    "temp=float(input('enter temp in celsius'))\n",
    "farenheit=(9*temp+(32+5))\n",
    "print('temp in farenheit:',farenheit)"
   ]
  },
  {
   "cell_type": "code",
   "execution_count": 8,
   "metadata": {},
   "outputs": [
    {
     "name": "stdout",
     "output_type": "stream",
     "text": [
      "enter breadth:3\n",
      "enter length:32\n",
      "area of a rectangle is: 96.0\n"
     ]
    }
   ],
   "source": [
    "###6.area of a rectangle\n",
    "b=float(input('enter breadth:'))\n",
    "l=float(input('enter length:'))\n",
    "area=l*b\n",
    "print('area of a rectangle is:',area)"
   ]
  },
  {
   "cell_type": "code",
   "execution_count": 15,
   "metadata": {},
   "outputs": [
    {
     "name": "stdout",
     "output_type": "stream",
     "text": [
      "enter a side:9\n",
      "perimeter of a square is: 36.0\n"
     ]
    }
   ],
   "source": [
    "###7.perimeter of a square\n",
    "a=float(input('enter a side:'))\n",
    "p=4*a\n",
    "print('perimeter of a square is:',p)"
   ]
  },
  {
   "cell_type": "code",
   "execution_count": 14,
   "metadata": {},
   "outputs": [
    {
     "name": "stdout",
     "output_type": "stream",
     "text": [
      "enter radius:3\n",
      "circumfernce of a circle is 18.852\n"
     ]
    }
   ],
   "source": [
    "###8.circumference of a circle\n",
    "pi=3.142\n",
    "r=float(input('enter radius:'))\n",
    "circumference=2*pi*r\n",
    "print('circumfernce of a circle is',circumference)"
   ]
  },
  {
   "cell_type": "code",
   "execution_count": 23,
   "metadata": {},
   "outputs": [
    {
     "name": "stdout",
     "output_type": "stream",
     "text": [
      "enter the value of a:9\n",
      "enter the value of b:5\n",
      "values of a and b before swapping:\n",
      " 9 5\n",
      "values of a and b after swapping:\n",
      " 5 9\n"
     ]
    }
   ],
   "source": [
    "###9.swapping of two numbers\n",
    "a=int(input('enter the value of a:'))\n",
    "b=int(input('enter the value of b:'))\n",
    "print('values of a and b before swapping:\\n',a,b)\n",
    "temp=a\n",
    "a=b\n",
    "b=temp\n",
    "print('values of a and b after swapping:\\n',a ,b)"
   ]
  },
  {
   "cell_type": "code",
   "execution_count": null,
   "metadata": {},
   "outputs": [],
   "source": []
  }
 ],
 "metadata": {
  "kernelspec": {
   "display_name": "Python 3",
   "language": "python",
   "name": "python3"
  },
  "language_info": {
   "codemirror_mode": {
    "name": "ipython",
    "version": 3
   },
   "file_extension": ".py",
   "mimetype": "text/x-python",
   "name": "python",
   "nbconvert_exporter": "python",
   "pygments_lexer": "ipython3",
   "version": "3.8.3"
  }
 },
 "nbformat": 4,
 "nbformat_minor": 4
}
