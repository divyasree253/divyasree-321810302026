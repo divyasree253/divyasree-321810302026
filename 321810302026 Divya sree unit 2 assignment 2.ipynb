{
 "cells": [
  {
   "cell_type": "code",
   "execution_count": 1,
   "metadata": {},
   "outputs": [
    {
     "name": "stdout",
     "output_type": "stream",
     "text": [
      "enter first number234\n",
      "enter the second number234\n",
      "both inputs are equal\n"
     ]
    }
   ],
   "source": [
    "###1.taking two inputs and check whether they are equal or not\n",
    "a=input(\"enter first number\")\n",
    "b=input(\"enter the second number\")\n",
    "if a==b:\n",
    "    print(\"both inputs are equal\")\n",
    "else:\n",
    "    print(\"input is not equal\")"
   ]
  },
  {
   "cell_type": "code",
   "execution_count": 2,
   "metadata": {},
   "outputs": [
    {
     "name": "stdout",
     "output_type": "stream",
     "text": [
      "enter the first number3\n",
      "enter the second number5\n",
      "enter the third number3\n",
      "all are equal False\n",
      "any of these two are not equal True\n"
     ]
    }
   ],
   "source": [
    "###2.taking 3 inputs from user and check: all are equal or any of  two are not equal\n",
    "num1=int(input(\"enter the first number\"))\n",
    "num2=int(input(\"enter the second number\"))\n",
    "num3=int(input(\"enter the third number\"))\n",
    "all=num1==num2 and num2==num3 and num3==num1\n",
    "print(\"all are equal\",all)\n",
    "any=num1==num2 or num2==num3 or num3==num1\n",
    "print(\"any of these two are not equal\",any)\n"
   ]
  },
  {
   "cell_type": "code",
   "execution_count": 4,
   "metadata": {},
   "outputs": [
    {
     "name": "stdout",
     "output_type": "stream",
     "text": [
      "enter the first number3\n",
      "enter the sec number2\n",
      "sum is greater than 5 False\n",
      "sum is less than 5 False\n",
      "sum is equal to 5 True\n"
     ]
    }
   ],
   "source": [
    "###3.check whether the sum is equal to 5 or greater than 5 or lessthan 5\n",
    "a=int(input(\"enter the first number\"))\n",
    "b=int(input(\"enter the sec number\"))\n",
    "sum=a+b\n",
    "print(\"sum is greater than 5\",sum>5)\n",
    "print(\"sum is less than 5\",sum<5)\n",
    "print(\"sum is equal to 5\",sum==5)"
   ]
  },
  {
   "cell_type": "code",
   "execution_count": 5,
   "metadata": {},
   "outputs": [
    {
     "name": "stdout",
     "output_type": "stream",
     "text": [
      "enter the first number2\n",
      "enter the sec number4\n",
      "the sum is greater than 5\n"
     ]
    }
   ],
   "source": [
    "###3.other method\n",
    "a=int(input(\"enter the first number\"))\n",
    "b=int(input(\"enter the sec number\"))\n",
    "sum=a+b\n",
    "if(sum>5):\n",
    "    print(\"the sum is greater than 5\")\n",
    "elif(sum<5):\n",
    "    print(\"the sum is less than 5\")\n",
    "else:\n",
    "    print(\"sum is exactly 5\")"
   ]
  },
  {
   "cell_type": "code",
   "execution_count": 6,
   "metadata": {},
   "outputs": [
    {
     "name": "stdout",
     "output_type": "stream",
     "text": [
      "enter the marks56\n",
      "marks are greater than the pass marks\n"
     ]
    }
   ],
   "source": [
    "###4.suppose passing marks of a student is 35.Take two inputs of marks from user and check whether it is greater than passing marks or not\n",
    "passmarks=35\n",
    "marks=int(input(\"enter the marks\"))\n",
    "if(marks>passmarks):\n",
    "    print(\"marks are greater than the pass marks\")\n",
    "else:\n",
    "    print(\"marks are less than passmarks\")"
   ]
  },
  {
   "cell_type": "code",
   "execution_count": 9,
   "metadata": {},
   "outputs": [
    {
     "name": "stdout",
     "output_type": "stream",
     "text": [
      "enter the marks53\n",
      "marks are greater than passmarks: True\n"
     ]
    }
   ],
   "source": [
    "###4.alternate method\n",
    "passmarks=35\n",
    "marks=int(input(\"enter the marks\"))\n",
    "print(\"marks are greater than passmarks:\",marks>passmarks)"
   ]
  },
  {
   "cell_type": "code",
   "execution_count": 17,
   "metadata": {},
   "outputs": [
    {
     "name": "stdout",
     "output_type": "stream",
     "text": [
      "enter the value of a:3\n",
      "enter the value of b:6\n",
      "enter the value of c:1\n",
      "the max of 3 no's is: 6\n"
     ]
    }
   ],
   "source": [
    "###5.python program to find the max of 3 numbers\n",
    "def maximum(a,b,c):\n",
    "    if(a>=b)and(a>=c):\n",
    "        largest=a\n",
    "    elif(b>=a)and(b>=c):\n",
    "        largest=b\n",
    "    else:\n",
    "        largest=c\n",
    "    print(\"the max of 3 no's is:\",largest)\n",
    "a=int(input(\"enter the value of a:\"))\n",
    "b=int(input(\"enter the value of b:\"))\n",
    "c=int(input(\"enter the value of c:\"))\n",
    "maximum(a,b,c)"
   ]
  },
  {
   "cell_type": "code",
   "execution_count": null,
   "metadata": {},
   "outputs": [],
   "source": []
  }
 ],
 "metadata": {
  "kernelspec": {
   "display_name": "Python 3",
   "language": "python",
   "name": "python3"
  },
  "language_info": {
   "codemirror_mode": {
    "name": "ipython",
    "version": 3
   },
   "file_extension": ".py",
   "mimetype": "text/x-python",
   "name": "python",
   "nbconvert_exporter": "python",
   "pygments_lexer": "ipython3",
   "version": "3.8.3"
  }
 },
 "nbformat": 4,
 "nbformat_minor": 4
}
