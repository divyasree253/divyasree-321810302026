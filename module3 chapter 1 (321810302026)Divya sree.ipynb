{
 "cells": [
  {
   "cell_type": "code",
   "execution_count": 1,
   "metadata": {},
   "outputs": [
    {
     "name": "stdout",
     "output_type": "stream",
     "text": [
      "5\n",
      "9\n",
      "42\n"
     ]
    }
   ],
   "source": [
    "####1.convert binary number to decimal\n",
    "def binary_to_decimal(binary):\n",
    "    i,integer = 0,0\n",
    "    size = len(binary)\n",
    "    while i < len(binary):\n",
    "        integer += int(binary[size - 1 - i])*pow(2,i)\n",
    "        i+=1\n",
    "    print(integer)\n",
    "binary_to_decimal(\"0101\")\n",
    "binary_to_decimal(\"01001\")\n",
    "binary_to_decimal(\"101010\")\n",
    "\n"
   ]
  },
  {
   "cell_type": "code",
   "execution_count": 3,
   "metadata": {},
   "outputs": [
    {
     "name": "stdout",
     "output_type": "stream",
     "text": [
      "enter the number7\n",
      "1  \n",
      "1  \n",
      "2  \n",
      "3  \n",
      "5  \n",
      "8  \n",
      "13  \n"
     ]
    }
   ],
   "source": [
    "###2.fibonacci numbers\n",
    "def Fibonacci(n): \n",
    "    f1=0\n",
    "    f2=1\n",
    "    if n<1: \n",
    "        print(\"Incorrect input\")  \n",
    "    for x in range(0, n): \n",
    "        print(f2,\" \") \n",
    "        next = f1 + f2 \n",
    "        f1 = f2 \n",
    "        f2 = next\n",
    "n=int(input(\"enter the number\"))\n",
    "Fibonacci(n)\n",
    "\n"
   ]
  },
  {
   "cell_type": "code",
   "execution_count": null,
   "metadata": {},
   "outputs": [],
   "source": [
    " "
   ]
  },
  {
   "cell_type": "code",
   "execution_count": 1,
   "metadata": {},
   "outputs": [
    {
     "name": "stdout",
     "output_type": "stream",
     "text": [
      "enter the number5\n",
      "5 x 1 = 5\n",
      "5 x 2 = 10\n",
      "5 x 3 = 15\n",
      "5 x 4 = 20\n",
      "5 x 5 = 25\n",
      "5 x 6 = 30\n",
      "5 x 7 = 35\n",
      "5 x 8 = 40\n",
      "5 x 9 = 45\n",
      "5 x 10 = 50\n"
     ]
    }
   ],
   "source": [
    "###3.multiplication table\n",
    "m=int(input(\"enter the number\"))\n",
    "for i in range(1, 11):\n",
    "   print(m, 'x', i, '=', m*i)\n",
    "\n"
   ]
  },
  {
   "cell_type": "code",
   "execution_count": 1,
   "metadata": {},
   "outputs": [
    {
     "name": "stdout",
     "output_type": "stream",
     "text": [
      "enter integers. \n",
      "3\n",
      "5\n",
      "7\n",
      "2\n",
      "9\n",
      "3\n",
      "6\n",
      "4\n",
      "0\n",
      "1\n",
      "Average of the above numbers are:  4.0\n"
     ]
    }
   ],
   "source": [
    "###4.take 10 integers from keyboard and display its average\n",
    "print(\"enter integers. \")\n",
    "count = 0\n",
    "sum = 0\n",
    "for i in range(0,10):\n",
    "    number = int(input(\"\"))\n",
    "    sum = sum + number\n",
    "    count += 1\n",
    "if count == 0:\n",
    "    print(\"enter some numbers\")\n",
    "else:\n",
    "    print(\"Average of the given numbers are: \", sum / (count))\n",
    "\n"
   ]
  },
  {
   "cell_type": "code",
   "execution_count": 2,
   "metadata": {},
   "outputs": [
    {
     "name": "stdout",
     "output_type": "stream",
     "text": [
      "*\n",
      "**\n",
      "***\n",
      "****\n"
     ]
    }
   ],
   "source": [
    "###4.print the pattern\n",
    "i=1\n",
    "while i<=4:\n",
    "    print(\"*\"*i)\n",
    "    i=i+1\n"
   ]
  },
  {
   "cell_type": "code",
   "execution_count": 3,
   "metadata": {},
   "outputs": [
    {
     "name": "stdout",
     "output_type": "stream",
     "text": [
      "enter the first number:5\n",
      "enter the second number:8\n",
      "GCD of 5 and 8 is 1\n"
     ]
    }
   ],
   "source": [
    "###5.gcd of two numbers\n",
    "def gcd(a,b): \n",
    "    if (b == 0): \n",
    "         return a \n",
    "    return gcd(b, a%b) \n",
    "a = int(input(\"enter the first number:\"))\n",
    "b = int(input(\"enter the second number:\"))\n",
    "if(gcd(a, b)): \n",
    "    print('GCD of', a, 'and', b, 'is', gcd(a, b)) \n",
    "else: \n",
    "    print('not found')\n"
   ]
  },
  {
   "cell_type": "code",
   "execution_count": 4,
   "metadata": {},
   "outputs": [
    {
     "name": "stdout",
     "output_type": "stream",
     "text": [
      "enter the string:divya\n",
      "the original string is:\n",
      "divya\n",
      "the  reverse string is:\n",
      "ayvid\n"
     ]
    }
   ],
   "source": [
    "###6.reverse a string\n",
    "def reverse(s):\n",
    "    if len(s)==0:\n",
    "        return s\n",
    "    else:\n",
    "        return reverse(s[1:])+s[0]\n",
    "s=input(\"enter the string:\")\n",
    "print(\"the original string is:\")\n",
    "print(s)\n",
    "print(\"the  reverse string is:\")\n",
    "print(reverse(s))\n",
    "\n"
   ]
  },
  {
   "cell_type": "code",
   "execution_count": 13,
   "metadata": {},
   "outputs": [
    {
     "name": "stdout",
     "output_type": "stream",
     "text": [
      "Even numbers in the list:  4\n",
      "Odd numbers in the list:  5\n"
     ]
    }
   ],
   "source": [
    "###7.Write a Python program to count the number of even and odd numbers from a series of numbers.\n",
    "list1 = [1,2,3,4,5,6,7,8,9] \n",
    "even, odd = 0, 0\n",
    "for num in list1: \n",
    "        if num % 2 == 0: \n",
    "            even += 1\n",
    "        else: \n",
    "            odd += 1\n",
    "print(\"Even numbers in the list: \", even) \n",
    "print(\"Odd numbers in the list: \", odd)\n"
   ]
  },
  {
   "cell_type": "code",
   "execution_count": 14,
   "metadata": {},
   "outputs": [
    {
     "name": "stdout",
     "output_type": "stream",
     "text": [
      "0\n",
      "1\n",
      "2\n",
      "4\n",
      "5\n"
     ]
    }
   ],
   "source": [
    "###8.Write a Python program that prints all the numbers from 0 to 6 except 3 and 6.\n",
    "for i in range(0,7):\n",
    "    if(i==3 or i==6):\n",
    "        continue\n",
    "    print(i)\n"
   ]
  },
  {
   "cell_type": "code",
   "execution_count": null,
   "metadata": {},
   "outputs": [],
   "source": []
  }
 ],
 "metadata": {
  "kernelspec": {
   "display_name": "Python 3",
   "language": "python",
   "name": "python3"
  },
  "language_info": {
   "codemirror_mode": {
    "name": "ipython",
    "version": 3
   },
   "file_extension": ".py",
   "mimetype": "text/x-python",
   "name": "python",
   "nbconvert_exporter": "python",
   "pygments_lexer": "ipython3",
   "version": "3.8.3"
  }
 },
 "nbformat": 4,
 "nbformat_minor": 4
}
